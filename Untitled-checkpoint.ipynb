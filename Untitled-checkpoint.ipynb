{
 "cells": [
  {
   "cell_type": "code",
   "execution_count": 1,
   "id": "46927f56-7db8-4cf4-bb7c-45d89799cd2d",
   "metadata": {},
   "outputs": [
    {
     "name": "stdout",
     "output_type": "stream",
     "text": [
      "ok\n"
     ]
    }
   ],
   "source": [
    "print(\"ok\")"
   ]
  },
  {
   "cell_type": "code",
   "execution_count": 4,
   "id": "43521748-d2b9-48f7-ae73-c8423bcd6c0e",
   "metadata": {},
   "outputs": [
    {
     "name": "stdin",
     "output_type": "stream",
     "text": [
      " 1\n"
     ]
    },
    {
     "name": "stdout",
     "output_type": "stream",
     "text": [
      "2\n"
     ]
    }
   ],
   "source": [
    "n =int(input())\n",
    "print(n * 2)"
   ]
  },
  {
   "cell_type": "code",
   "execution_count": 7,
   "id": "26207f48-6133-401b-9621-19a61ad40a09",
   "metadata": {},
   "outputs": [
    {
     "name": "stdin",
     "output_type": "stream",
     "text": [
      " 5 4\n"
     ]
    },
    {
     "name": "stdout",
     "output_type": "stream",
     "text": [
      "7.44\n"
     ]
    }
   ],
   "source": [
    "a, b = map(int, input().split())\n",
    "print(f\"{a * b - (b * b / 4) * 3.14:.2f}\")"
   ]
  },
  {
   "cell_type": "code",
   "execution_count": 11,
   "id": "32315a2a-e899-46fe-b82a-dffcc0470b44",
   "metadata": {},
   "outputs": [
    {
     "name": "stdin",
     "output_type": "stream",
     "text": [
      " a\n"
     ]
    },
    {
     "name": "stdout",
     "output_type": "stream",
     "text": [
      "A\n"
     ]
    }
   ],
   "source": [
    "s = input()\n",
    "if (ord(s) < 97):\n",
    "    print(chr(ord(s) + 32))\n",
    "else:\n",
    "    print(chr(ord(s) - 32))\n"
   ]
  },
  {
   "cell_type": "code",
   "execution_count": 15,
   "id": "e7922a35-a2a6-454f-b6d0-776a3e1bd692",
   "metadata": {},
   "outputs": [
    {
     "name": "stdin",
     "output_type": "stream",
     "text": [
      " .\n"
     ]
    },
    {
     "name": "stdout",
     "output_type": "stream",
     "text": [
      ". khong phai ki tu alphabet\n"
     ]
    }
   ],
   "source": [
    "s = input()\n",
    "if (ord(s) >= 65 and ord(s) <= 122):\n",
    "    print(f\"{s} la ki tu alphabet\")\n",
    "else :\n",
    "    print(f\"{s} khong phai ki tu alphabet\")"
   ]
  },
  {
   "cell_type": "code",
   "execution_count": 22,
   "id": "17c20728-d2e2-4696-83ec-e3a1bce13b76",
   "metadata": {},
   "outputs": [
    {
     "name": "stdin",
     "output_type": "stream",
     "text": [
      " B\n"
     ]
    },
    {
     "name": "stdout",
     "output_type": "stream",
     "text": [
      "a\n"
     ]
    }
   ],
   "source": [
    "s = input()\n",
    "if (ord(s) > 65):\n",
    "    print(chr(ord(s) + 31))\n",
    "else:\n",
    "    print(\"dac biet\")\n"
   ]
  },
  {
   "cell_type": "code",
   "execution_count": 28,
   "id": "8408e051-d22d-4e64-8bdc-e79937ce2964",
   "metadata": {},
   "outputs": [
    {
     "name": "stdin",
     "output_type": "stream",
     "text": [
      " 2 3 4\n"
     ]
    },
    {
     "name": "stdout",
     "output_type": "stream",
     "text": [
      "11.9\n"
     ]
    }
   ],
   "source": [
    "a = list(map(int, input().split()))\n",
    "a.sort()\n",
    "if (a[0] + a[1] <= a[2]):\n",
    "    print(\"khong phai tam giac\")\n",
    "else:\n",
    "    p = (a[0] + a[1] + a[2]) / 2\n",
    "    print(f\"{p * (p - a[0]) * (p - a[1]) * (p - a[2]) ** 0.5:.1f}\")\n"
   ]
  },
  {
   "cell_type": "code",
   "execution_count": 33,
   "id": "4ff5c424-0f1e-419b-8990-d3a2ca04717a",
   "metadata": {},
   "outputs": [
    {
     "name": "stdin",
     "output_type": "stream",
     "text": [
      " DKAJFLSFDKFJLKSAJFLA\n"
     ]
    },
    {
     "name": "stdout",
     "output_type": "stream",
     "text": [
      "F D\n"
     ]
    }
   ],
   "source": [
    "s = input()\n",
    "print(s[4],s[8])"
   ]
  },
  {
   "cell_type": "code",
   "execution_count": 51,
   "id": "566de2e4-4b66-4f45-b71f-caf8de9ae85d",
   "metadata": {},
   "outputs": [
    {
     "name": "stdin",
     "output_type": "stream",
     "text": [
      "Ten chu ho: nghia\n",
      "Chi so thang truoc: 2097\n",
      "Chi so thang nay: 2278\n"
     ]
    },
    {
     "name": "stdout",
     "output_type": "stream",
     "text": [
      "Ho va ten: nghia\n",
      "tien dien thang nay 426038\n"
     ]
    }
   ],
   "source": [
    "import sys\n",
    "\n",
    "name = input(\"Ten chu ho:\")\n",
    "a = int(input(\"Chi so thang truoc:\"))\n",
    "b = int(input(\"Chi so thang nay:\"))\n",
    "used = b - a\n",
    "res = 0\n",
    "BangGia = [(50, 1.984), (50, 2.050), (100, 2.380), (100, 2.998), (100, 3.350), (float(\"inf\"), 3.460)]\n",
    "for moc, gia in BangGia:\n",
    "    if (used >= moc):\n",
    "        \n",
    "        res += gia * moc\n",
    "        used -= moc\n",
    "    else:\n",
    "        res += used * gia\n",
    "        break\n",
    "res *= 1.08\n",
    "print(\"Ho va ten:\", name)\n",
    "print(\"tien dien thang nay\", int(res * 1000))\n"
   ]
  }
 ],
 "metadata": {
  "kernelspec": {
   "display_name": "Python 3 (ipykernel)",
   "language": "python",
   "name": "python3"
  },
  "language_info": {
   "codemirror_mode": {
    "name": "ipython",
    "version": 3
   },
   "file_extension": ".py",
   "mimetype": "text/x-python",
   "name": "python",
   "nbconvert_exporter": "python",
   "pygments_lexer": "ipython3",
   "version": "3.11.9"
  }
 },
 "nbformat": 4,
 "nbformat_minor": 5
}
