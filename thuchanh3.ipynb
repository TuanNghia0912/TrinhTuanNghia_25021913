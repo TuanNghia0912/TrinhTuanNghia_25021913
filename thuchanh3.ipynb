{
 "cells": [
  {
   "cell_type": "code",
   "execution_count": 1,
   "id": "fcaa11e1-7382-4763-8ec1-9f4df879855b",
   "metadata": {},
   "outputs": [
    {
     "name": "stdin",
     "output_type": "stream",
     "text": [
      " 2 4\n"
     ]
    },
    {
     "name": "stdout",
     "output_type": "stream",
     "text": [
      "8\n",
      "12\n"
     ]
    }
   ],
   "source": [
    "a,b = map(int, input().split())\n",
    "print(a * b)\n",
    "print((a + b) * 2)\n"
   ]
  },
  {
   "cell_type": "code",
   "execution_count": 6,
   "id": "39fec250-fdfe-43a2-b40e-92d6c8b78f82",
   "metadata": {},
   "outputs": [
    {
     "name": "stdin",
     "output_type": "stream",
     "text": [
      " 3\n"
     ]
    },
    {
     "name": "stdout",
     "output_type": "stream",
     "text": [
      "28.26\n",
      "18.84\n"
     ]
    }
   ],
   "source": [
    "r = int(input())\n",
    "print(f\"{r * r * 3.14:.2f}\")\n",
    "print(f\"{r * 2 * 3.14:.2f}\")\n"
   ]
  },
  {
   "cell_type": "code",
   "execution_count": 2,
   "id": "93a52fcd-d9a2-4b6e-8952-e78176f87755",
   "metadata": {},
   "outputs": [
    {
     "name": "stdin",
     "output_type": "stream",
     "text": [
      " 3 4 4\n"
     ]
    },
    {
     "name": "stdout",
     "output_type": "stream",
     "text": [
      "tam giac can\n",
      "dien tich tam giac la: 5.56\n",
      "chu vi tam giac la: 11.00\n"
     ]
    }
   ],
   "source": [
    "a, b, c = map(float, input().split())\n",
    "if b < a: a, b = b, a\n",
    "if c < b: b, c = c, b\n",
    "if b < a: a, b = b, a\n",
    "if a + b <= c:\n",
    "    print(\"khong phai tam giac\")\n",
    "else:\n",
    "    if a == b == c:\n",
    "        print(\"tam giac deu\")\n",
    "    elif a == b or b == c:\n",
    "        print(\"tam giac can\")\n",
    "    elif a * a + b * b == c * c:\n",
    "        print(\"tam giac vuong\")\n",
    "    else:\n",
    "        print(\"tam giac thuong\")\n",
    "p = (a + b + c) / 2\n",
    "print(f\"dien tich tam giac la: {(p * (p - a) * (p - b) * (p - c)) ** (1/2):.2f}\")\n",
    "print(\"chu vi tam giac la:\", f\"{p * 2:.2f}\")"
   ]
  },
  {
   "cell_type": "code",
   "execution_count": 30,
   "id": "08a5bc3c-aed7-4c3c-b5ba-f32d9cca71b0",
   "metadata": {},
   "outputs": [
    {
     "name": "stdin",
     "output_type": "stream",
     "text": [
      " 3 1\n"
     ]
    },
    {
     "name": "stdout",
     "output_type": "stream",
     "text": [
      "-0.33333\n"
     ]
    }
   ],
   "source": [
    "a, b = map(int, input().split())\n",
    "print(f\"{-b/ a:.5f}\")"
   ]
  },
  {
   "cell_type": "code",
   "execution_count": 32,
   "id": "25684320-4a36-432e-8180-5191ab428f4a",
   "metadata": {},
   "outputs": [
    {
     "ename": "SyntaxError",
     "evalue": "invalid decimal literal (4030646584.py, line 6)",
     "output_type": "error",
     "traceback": [
      "  \u001b[36mCell\u001b[39m\u001b[36m \u001b[39m\u001b[32mIn[32]\u001b[39m\u001b[32m, line 6\u001b[39m\n\u001b[31m    \u001b[39m\u001b[31mprint(f\"{(-b + delta ** (1/2)) / 2a:.2f}\")\u001b[39m\n                         ^\n\u001b[31mSyntaxError\u001b[39m\u001b[31m:\u001b[39m invalid decimal literal\n"
     ]
    }
   ],
   "source": [
    "a,b,c = map(int, input().split())\n",
    "delta = b * b - 4 * a * c\n",
    "if delta < 0: \n",
    "    print(\"vo nghiem\")\n",
    "if delta == 0:\n",
    "    print(f\"{(-b + delta ** (1/2)) / 2a:.2f}\")\n",
    "if delta > 0:\n",
    "    print(f\"{(-b + delta ** (1/2)) / 2a:.2f}\")\n",
    "    print(f\"{(-b - delta ** (1/2)) / 2a:.2f}\")"
   ]
  },
  {
   "cell_type": "code",
   "execution_count": 1,
   "id": "ab033dfc-3347-463e-8a92-b663aae779e6",
   "metadata": {},
   "outputs": [
    {
     "name": "stdin",
     "output_type": "stream",
     "text": [
      " 1 2 3 4\n"
     ]
    },
    {
     "name": "stdout",
     "output_type": "stream",
     "text": [
      "4\n"
     ]
    }
   ],
   "source": [
    "a,b,c,d = map(int, input().split())\n",
    "mx = max(a, b, c, d)\n",
    "print(mx)"
   ]
  },
  {
   "cell_type": "code",
   "execution_count": null,
   "id": "203282fd-42b7-410f-9a89-c9bf371d13b8",
   "metadata": {},
   "outputs": [],
   "source": [
    "a,b,c,d = map(int, input().split())\n",
    "mn = min(a, b, c, d)\n",
    "print(mn)"
   ]
  },
  {
   "cell_type": "code",
   "execution_count": null,
   "id": "2efb53a6-99a4-479b-bb34-58f9ff1e459f",
   "metadata": {},
   "outputs": [],
   "source": []
  }
 ],
 "metadata": {
  "kernelspec": {
   "display_name": "Python 3 (ipykernel)",
   "language": "python",
   "name": "python3"
  },
  "language_info": {
   "codemirror_mode": {
    "name": "ipython",
    "version": 3
   },
   "file_extension": ".py",
   "mimetype": "text/x-python",
   "name": "python",
   "nbconvert_exporter": "python",
   "pygments_lexer": "ipython3",
   "version": "3.11.9"
  }
 },
 "nbformat": 4,
 "nbformat_minor": 5
}
