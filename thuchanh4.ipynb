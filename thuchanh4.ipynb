{
 "cells": [
  {
   "cell_type": "code",
   "execution_count": 7,
   "id": "f76004d2-410a-4881-b499-16ea7300a77f",
   "metadata": {},
   "outputs": [
    {
     "name": "stdout",
     "output_type": "stream",
     "text": [
      "2\n",
      "3\n",
      "5\n",
      "7\n",
      "11\n",
      "13\n",
      "17\n",
      "19\n",
      "23\n",
      "29\n",
      "31\n",
      "37\n",
      "41\n",
      "43\n",
      "47\n",
      "53\n",
      "59\n",
      "61\n",
      "67\n",
      "71\n",
      "73\n",
      "79\n",
      "83\n",
      "89\n",
      "97\n"
     ]
    }
   ],
   "source": [
    "prime = [True] * 1000000\n",
    "def SangNguyenTo():\n",
    "    prime[0] = prime[1] = False\n",
    "    for i in range (2, 1000000 + 1):\n",
    "        for j in range (i * i, 1000000, i):\n",
    "            prime[j] = False\n",
    "SangNguyenTo()\n",
    "for i in range(1, 101):\n",
    "    if prime[i]:\n",
    "        print(i)"
   ]
  },
  {
   "cell_type": "code",
   "execution_count": 9,
   "id": "5b59b64f-18db-4b01-86f9-07b7e231cf7e",
   "metadata": {},
   "outputs": [
    {
     "name": "stdin",
     "output_type": "stream",
     "text": [
      " 3 10\n"
     ]
    },
    {
     "name": "stdout",
     "output_type": "stream",
     "text": [
      "15\n"
     ]
    }
   ],
   "source": [
    "#W4A6\n",
    "prime = [True] * 1000000\n",
    "def SangNguyenTo():\n",
    "    prime[0] = prime[1] = False\n",
    "    for i in range (2, 1000000 + 1):\n",
    "        for j in range (i * i, 1000000, i):\n",
    "            prime[j] = False\n",
    "SangNguyenTo()\n",
    "a, b = map(int, input().split())\n",
    "ans = 0\n",
    "for i in range (a, b + 1):\n",
    "    if prime[i]:\n",
    "        ans += i\n",
    "print (ans)"
   ]
  },
  {
   "cell_type": "code",
   "execution_count": 40,
   "id": "4dc34a4e-14fe-4908-a3c7-226ca64fe3f7",
   "metadata": {},
   "outputs": [
    {
     "name": "stdin",
     "output_type": "stream",
     "text": [
      " 10\n"
     ]
    },
    {
     "name": "stdout",
     "output_type": "stream",
     "text": [
      "5\n"
     ]
    }
   ],
   "source": [
    "##### W4A7\n",
    "prime = [True] * 1000001\n",
    "uocnt = [[] for _ in range (1000001)]\n",
    "\n",
    "def SangNguyenTo():\n",
    "    prime[0] = prime[1] = False\n",
    "    for i in range (2, 1000000 + 1):\n",
    "        if prime[i] == 0:\n",
    "            continue\n",
    "        for j in range (i * 2, 1000000, i):\n",
    "            uocnt[j].append(i)\n",
    "            prime[j] = False\n",
    "SangNguyenTo()\n",
    "n = int(input())\n",
    "print(uocnt[n][-1])"
   ]
  }
 ],
 "metadata": {
  "kernelspec": {
   "display_name": "Python 3 (ipykernel)",
   "language": "python",
   "name": "python3"
  },
  "language_info": {
   "codemirror_mode": {
    "name": "ipython",
    "version": 3
   },
   "file_extension": ".py",
   "mimetype": "text/x-python",
   "name": "python",
   "nbconvert_exporter": "python",
   "pygments_lexer": "ipython3",
   "version": "3.13.7"
  }
 },
 "nbformat": 4,
 "nbformat_minor": 5
}
