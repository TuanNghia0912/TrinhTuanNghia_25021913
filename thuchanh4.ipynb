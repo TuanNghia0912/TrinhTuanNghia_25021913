{
 "cells": [
  {
   "cell_type": "code",
   "execution_count": 4,
   "id": "f76004d2-410a-4881-b499-16ea7300a77f",
   "metadata": {},
   "outputs": [
    {
     "ename": "SyntaxError",
     "evalue": "invalid syntax (2286067526.py, line 2)",
     "output_type": "error",
     "traceback": [
      "  \u001b[36mCell\u001b[39m\u001b[36m \u001b[39m\u001b[32mIn[4]\u001b[39m\u001b[32m, line 2\u001b[39m\n\u001b[31m    \u001b[39m\u001b[31mvoid SangNguyenTo():\u001b[39m\n         ^\n\u001b[31mSyntaxError\u001b[39m\u001b[31m:\u001b[39m invalid syntax\n"
     ]
    }
   ],
   "source": [
    "prime = [True] * 1000000\n",
    "def SangNguyenTo():\n",
    "    prime[0] = prime[1] = False\n",
    "    for i in range (2, 1000000 + 1):\n",
    "        for j in range (i * i, 1000000, i):\n",
    "            prime[j] = False"
   ]
  }
 ],
 "metadata": {
  "kernelspec": {
   "display_name": "Python 3 (ipykernel)",
   "language": "python",
   "name": "python3"
  },
  "language_info": {
   "codemirror_mode": {
    "name": "ipython",
    "version": 3
   },
   "file_extension": ".py",
   "mimetype": "text/x-python",
   "name": "python",
   "nbconvert_exporter": "python",
   "pygments_lexer": "ipython3",
   "version": "3.13.7"
  }
 },
 "nbformat": 4,
 "nbformat_minor": 5
}
